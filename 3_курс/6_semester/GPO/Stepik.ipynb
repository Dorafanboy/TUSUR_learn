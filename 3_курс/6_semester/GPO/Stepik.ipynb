{
  "nbformat": 4,
  "nbformat_minor": 0,
  "metadata": {
    "colab": {
      "provenance": []
    },
    "kernelspec": {
      "name": "python3",
      "display_name": "Python 3"
    },
    "language_info": {
      "name": "python"
    }
  },
  "cells": [
    {
      "cell_type": "code",
      "source": [
        "# 5. Тест в разделе (Задача предстказания, линейная регрессия)\n",
        "# Step 5.6 #1\n",
        "import numpy as np\n",
        "import pandas as pd\n",
        "from sklearn.metrics import mean_absolute_error as mae\n",
        "from sklearn.metrics import mean_absolute_percentage_error as mape\n",
        "df = pd.DataFrame(data={'Нецелевые признаки': [',,,']*10,\n",
        "                  'Y':  [1.0, 2.0, 3.0, 4.0, 5.0, -1.0, -2.0, -3.0, -4.0, -5.0],\n",
        "                  \"Y'\": [0.0, 2.0, 2.0, 5.0, 3.0, -1.0, -1.0, -4.0, -6.0, -5.0]},\n",
        "                  index=['A', 'B', 'C', 'D', 'E', 'F', 'G', 'H', 'I', 'J'],\n",
        "                  )\n",
        "print(f\"\"\"mae: {mae(df[\"Y\"], df[\"Y'\"])}\"\"\")\n",
        "print(f\"\"\"mape: {round(mape(df[\"Y\"], df[\"Y'\"]) * 100)}\"\"\")\n",
        "\n",
        "# Step 5.6 #2\n",
        "from sklearn import linear_model as lm\n",
        "# Create linear regression object\n",
        "lr = lm.LinearRegression()\n",
        "lr.fit([[0],[1],[2],[3]], [0,1,0,3])\n",
        "print(\"Intercept: \", lr.intercept_)\n",
        "print(\"Coefficient: \", lr.coef_)\n",
        "\n",
        "# Step #5.7\n",
        "from sklearn.linear_model import Ridge\n",
        "import numpy as np\n",
        "alpha=1.0\n",
        "X = np.array( [ [0,3], [1,2], [2,1], [3,0] ] )\n",
        "y = np.array( [ 0, 1, 0, 3 ] )\n",
        "#expand X by 1.0 column\n",
        "X = np.insert(X, 0, values=1, axis=1 )\n",
        "model = Ridge(alpha=alpha, fit_intercept=False )\n",
        "model.fit(X, y )\n",
        "\n",
        "print(\"coef:\", model.coef_);"
      ],
      "metadata": {
        "colab": {
          "base_uri": "https://localhost:8080/"
        },
        "id": "Iv3KInjFfQLW",
        "outputId": "be0c7c53-4023-40d7-839d-41833554be77"
      },
      "execution_count": 35,
      "outputs": [
        {
          "output_type": "stream",
          "name": "stdout",
          "text": [
            "mae: 0.9\n",
            "mape: 33\n",
            "Intercept:  -0.20000000000000018\n",
            "Coefficient:  [0.8]\n",
            "[[1 0 3]\n",
            " [1 1 2]\n",
            " [1 2 1]\n",
            " [1 3 0]]\n",
            "coef: [ 0.17391304  0.62450593 -0.1027668 ]\n"
          ]
        }
      ]
    }
  ]
}